{
 "cells": [
  {
   "cell_type": "code",
   "execution_count": 25,
   "metadata": {},
   "outputs": [],
   "source": [
    "#Ajitesh Chauhan "
   ]
  },
  {
   "cell_type": "code",
   "execution_count": 26,
   "metadata": {},
   "outputs": [],
   "source": [
    "import pandas as pd\n",
    "import numpy as np\n",
    "import seaborn as sns\n",
    "import matplotlib.pyplot as plt\n",
    "%matplotlib inline\n",
    "from sklearn.preprocessing import StandardScaler\n",
    "from sklearn.linear_model import LogisticRegression\n",
    "from sklearn.model_selection import train_test_split\n",
    "from sklearn.metrics import classification_report\n",
    "from sklearn.metrics import confusion_matrix, precision_recall_curve, auc, roc_auc_score, roc_curve, accuracy_score, recall_score, classification_report\n",
    "from sklearn.metrics import precision_score\n",
    "from sklearn.ensemble import RandomForestClassifier\n",
    "from sklearn.ensemble import AdaBoostClassifier\n",
    "from sklearn.metrics import precision_recall_curve, auc, confusion_matrix, recall_score, roc_auc_score"
   ]
  },
  {
   "cell_type": "code",
   "execution_count": 27,
   "metadata": {},
   "outputs": [],
   "source": [
    "data = pd.read_csv(\"/Users/ajiteshchauhan/Downloads/creditcard.csv\")"
   ]
  },
  {
   "cell_type": "code",
   "execution_count": 28,
   "metadata": {},
   "outputs": [
    {
     "data": {
      "text/html": [
       "<div>\n",
       "<style scoped>\n",
       "    .dataframe tbody tr th:only-of-type {\n",
       "        vertical-align: middle;\n",
       "    }\n",
       "\n",
       "    .dataframe tbody tr th {\n",
       "        vertical-align: top;\n",
       "    }\n",
       "\n",
       "    .dataframe thead th {\n",
       "        text-align: right;\n",
       "    }\n",
       "</style>\n",
       "<table border=\"1\" class=\"dataframe\">\n",
       "  <thead>\n",
       "    <tr style=\"text-align: right;\">\n",
       "      <th></th>\n",
       "      <th>Time</th>\n",
       "      <th>V1</th>\n",
       "      <th>V2</th>\n",
       "      <th>V3</th>\n",
       "      <th>V4</th>\n",
       "      <th>V5</th>\n",
       "      <th>V6</th>\n",
       "      <th>V7</th>\n",
       "      <th>V8</th>\n",
       "      <th>V9</th>\n",
       "      <th>...</th>\n",
       "      <th>V21</th>\n",
       "      <th>V22</th>\n",
       "      <th>V23</th>\n",
       "      <th>V24</th>\n",
       "      <th>V25</th>\n",
       "      <th>V26</th>\n",
       "      <th>V27</th>\n",
       "      <th>V28</th>\n",
       "      <th>Amount</th>\n",
       "      <th>Class</th>\n",
       "    </tr>\n",
       "  </thead>\n",
       "  <tbody>\n",
       "    <tr>\n",
       "      <th>0</th>\n",
       "      <td>0.0</td>\n",
       "      <td>-1.359807</td>\n",
       "      <td>-0.072781</td>\n",
       "      <td>2.536347</td>\n",
       "      <td>1.378155</td>\n",
       "      <td>-0.338321</td>\n",
       "      <td>0.462388</td>\n",
       "      <td>0.239599</td>\n",
       "      <td>0.098698</td>\n",
       "      <td>0.363787</td>\n",
       "      <td>...</td>\n",
       "      <td>-0.018307</td>\n",
       "      <td>0.277838</td>\n",
       "      <td>-0.110474</td>\n",
       "      <td>0.066928</td>\n",
       "      <td>0.128539</td>\n",
       "      <td>-0.189115</td>\n",
       "      <td>0.133558</td>\n",
       "      <td>-0.021053</td>\n",
       "      <td>149.62</td>\n",
       "      <td>0</td>\n",
       "    </tr>\n",
       "    <tr>\n",
       "      <th>1</th>\n",
       "      <td>0.0</td>\n",
       "      <td>1.191857</td>\n",
       "      <td>0.266151</td>\n",
       "      <td>0.166480</td>\n",
       "      <td>0.448154</td>\n",
       "      <td>0.060018</td>\n",
       "      <td>-0.082361</td>\n",
       "      <td>-0.078803</td>\n",
       "      <td>0.085102</td>\n",
       "      <td>-0.255425</td>\n",
       "      <td>...</td>\n",
       "      <td>-0.225775</td>\n",
       "      <td>-0.638672</td>\n",
       "      <td>0.101288</td>\n",
       "      <td>-0.339846</td>\n",
       "      <td>0.167170</td>\n",
       "      <td>0.125895</td>\n",
       "      <td>-0.008983</td>\n",
       "      <td>0.014724</td>\n",
       "      <td>2.69</td>\n",
       "      <td>0</td>\n",
       "    </tr>\n",
       "    <tr>\n",
       "      <th>2</th>\n",
       "      <td>1.0</td>\n",
       "      <td>-1.358354</td>\n",
       "      <td>-1.340163</td>\n",
       "      <td>1.773209</td>\n",
       "      <td>0.379780</td>\n",
       "      <td>-0.503198</td>\n",
       "      <td>1.800499</td>\n",
       "      <td>0.791461</td>\n",
       "      <td>0.247676</td>\n",
       "      <td>-1.514654</td>\n",
       "      <td>...</td>\n",
       "      <td>0.247998</td>\n",
       "      <td>0.771679</td>\n",
       "      <td>0.909412</td>\n",
       "      <td>-0.689281</td>\n",
       "      <td>-0.327642</td>\n",
       "      <td>-0.139097</td>\n",
       "      <td>-0.055353</td>\n",
       "      <td>-0.059752</td>\n",
       "      <td>378.66</td>\n",
       "      <td>0</td>\n",
       "    </tr>\n",
       "    <tr>\n",
       "      <th>3</th>\n",
       "      <td>1.0</td>\n",
       "      <td>-0.966272</td>\n",
       "      <td>-0.185226</td>\n",
       "      <td>1.792993</td>\n",
       "      <td>-0.863291</td>\n",
       "      <td>-0.010309</td>\n",
       "      <td>1.247203</td>\n",
       "      <td>0.237609</td>\n",
       "      <td>0.377436</td>\n",
       "      <td>-1.387024</td>\n",
       "      <td>...</td>\n",
       "      <td>-0.108300</td>\n",
       "      <td>0.005274</td>\n",
       "      <td>-0.190321</td>\n",
       "      <td>-1.175575</td>\n",
       "      <td>0.647376</td>\n",
       "      <td>-0.221929</td>\n",
       "      <td>0.062723</td>\n",
       "      <td>0.061458</td>\n",
       "      <td>123.50</td>\n",
       "      <td>0</td>\n",
       "    </tr>\n",
       "    <tr>\n",
       "      <th>4</th>\n",
       "      <td>2.0</td>\n",
       "      <td>-1.158233</td>\n",
       "      <td>0.877737</td>\n",
       "      <td>1.548718</td>\n",
       "      <td>0.403034</td>\n",
       "      <td>-0.407193</td>\n",
       "      <td>0.095921</td>\n",
       "      <td>0.592941</td>\n",
       "      <td>-0.270533</td>\n",
       "      <td>0.817739</td>\n",
       "      <td>...</td>\n",
       "      <td>-0.009431</td>\n",
       "      <td>0.798278</td>\n",
       "      <td>-0.137458</td>\n",
       "      <td>0.141267</td>\n",
       "      <td>-0.206010</td>\n",
       "      <td>0.502292</td>\n",
       "      <td>0.219422</td>\n",
       "      <td>0.215153</td>\n",
       "      <td>69.99</td>\n",
       "      <td>0</td>\n",
       "    </tr>\n",
       "  </tbody>\n",
       "</table>\n",
       "<p>5 rows × 31 columns</p>\n",
       "</div>"
      ],
      "text/plain": [
       "   Time        V1        V2        V3        V4        V5        V6        V7  \\\n",
       "0   0.0 -1.359807 -0.072781  2.536347  1.378155 -0.338321  0.462388  0.239599   \n",
       "1   0.0  1.191857  0.266151  0.166480  0.448154  0.060018 -0.082361 -0.078803   \n",
       "2   1.0 -1.358354 -1.340163  1.773209  0.379780 -0.503198  1.800499  0.791461   \n",
       "3   1.0 -0.966272 -0.185226  1.792993 -0.863291 -0.010309  1.247203  0.237609   \n",
       "4   2.0 -1.158233  0.877737  1.548718  0.403034 -0.407193  0.095921  0.592941   \n",
       "\n",
       "         V8        V9  ...         V21       V22       V23       V24  \\\n",
       "0  0.098698  0.363787  ...   -0.018307  0.277838 -0.110474  0.066928   \n",
       "1  0.085102 -0.255425  ...   -0.225775 -0.638672  0.101288 -0.339846   \n",
       "2  0.247676 -1.514654  ...    0.247998  0.771679  0.909412 -0.689281   \n",
       "3  0.377436 -1.387024  ...   -0.108300  0.005274 -0.190321 -1.175575   \n",
       "4 -0.270533  0.817739  ...   -0.009431  0.798278 -0.137458  0.141267   \n",
       "\n",
       "        V25       V26       V27       V28  Amount  Class  \n",
       "0  0.128539 -0.189115  0.133558 -0.021053  149.62      0  \n",
       "1  0.167170  0.125895 -0.008983  0.014724    2.69      0  \n",
       "2 -0.327642 -0.139097 -0.055353 -0.059752  378.66      0  \n",
       "3  0.647376 -0.221929  0.062723  0.061458  123.50      0  \n",
       "4 -0.206010  0.502292  0.219422  0.215153   69.99      0  \n",
       "\n",
       "[5 rows x 31 columns]"
      ]
     },
     "execution_count": 28,
     "metadata": {},
     "output_type": "execute_result"
    }
   ],
   "source": [
    "data.head()"
   ]
  },
  {
   "cell_type": "code",
   "execution_count": 29,
   "metadata": {},
   "outputs": [
    {
     "data": {
      "text/plain": [
       "Time      0\n",
       "V1        0\n",
       "V2        0\n",
       "V3        0\n",
       "V4        0\n",
       "V5        0\n",
       "V6        0\n",
       "V7        0\n",
       "V8        0\n",
       "V9        0\n",
       "V10       0\n",
       "V11       0\n",
       "V12       0\n",
       "V13       0\n",
       "V14       0\n",
       "V15       0\n",
       "V16       0\n",
       "V17       0\n",
       "V18       0\n",
       "V19       0\n",
       "V20       0\n",
       "V21       0\n",
       "V22       0\n",
       "V23       0\n",
       "V24       0\n",
       "V25       0\n",
       "V26       0\n",
       "V27       0\n",
       "V28       0\n",
       "Amount    0\n",
       "Class     0\n",
       "dtype: int64"
      ]
     },
     "execution_count": 29,
     "metadata": {},
     "output_type": "execute_result"
    }
   ],
   "source": [
    "data.isna().sum()"
   ]
  },
  {
   "cell_type": "code",
   "execution_count": 30,
   "metadata": {},
   "outputs": [
    {
     "data": {
      "text/plain": [
       "Time      float64\n",
       "V1        float64\n",
       "V2        float64\n",
       "V3        float64\n",
       "V4        float64\n",
       "V5        float64\n",
       "V6        float64\n",
       "V7        float64\n",
       "V8        float64\n",
       "V9        float64\n",
       "V10       float64\n",
       "V11       float64\n",
       "V12       float64\n",
       "V13       float64\n",
       "V14       float64\n",
       "V15       float64\n",
       "V16       float64\n",
       "V17       float64\n",
       "V18       float64\n",
       "V19       float64\n",
       "V20       float64\n",
       "V21       float64\n",
       "V22       float64\n",
       "V23       float64\n",
       "V24       float64\n",
       "V25       float64\n",
       "V26       float64\n",
       "V27       float64\n",
       "V28       float64\n",
       "Amount    float64\n",
       "Class       int64\n",
       "dtype: object"
      ]
     },
     "execution_count": 30,
     "metadata": {},
     "output_type": "execute_result"
    }
   ],
   "source": [
    "data.dtypes"
   ]
  },
  {
   "cell_type": "code",
   "execution_count": 31,
   "metadata": {},
   "outputs": [
    {
     "data": {
      "text/plain": [
       "Text(0,0.5,'Frequency')"
      ]
     },
     "execution_count": 31,
     "metadata": {},
     "output_type": "execute_result"
    },
    {
     "data": {
      "image/png": "[encoded data removed]",
      "text/plain": [
       "<matplotlib.figure.Figure at 0x1a17e40278>"
      ]
     },
     "metadata": {},
     "output_type": "display_data"
    }
   ],
   "source": [
    "# plotting a histogram to identify the frequency of each type in class\n",
    "count_classes = pd.value_counts(data['Class'], sort = True).sort_index()\n",
    "count_classes.plot(kind = 'bar')\n",
    "plt.title(\"Credit Card - Fraud Class histogram (1 represent's Fraud)\")\n",
    "plt.xlabel(\"Class\")\n",
    "plt.ylabel(\"Frequency\")\n"
   ]
  },
  {
   "cell_type": "code",
   "execution_count": 32,
   "metadata": {},
   "outputs": [
    {
     "name": "stdout",
     "output_type": "stream",
     "text": [
      "Percentage of non fraud transactions:  99.82725143693798\n",
      "Percentage of fraud transactions:  0.1727485630620034\n",
      "Total count of transactions in data:  284807\n"
     ]
    }
   ],
   "source": [
    "# Showing ratio(High imbalance)\n",
    "print(\"Percentage of non fraud transactions: \", (len(data[data.Class == 0])/len(data))*100)\n",
    "print(\"Percentage of fraud transactions: \", (len(data[data.Class == 1])/len(data))*100)\n",
    "print(\"Total count of transactions in data: \", len(data))"
   ]
  },
  {
   "cell_type": "code",
   "execution_count": 33,
   "metadata": {},
   "outputs": [
    {
     "data": {
      "image/png": "[encoded data removed]",
      "text/plain": [
       "<matplotlib.figure.Figure at 0x1a17ad5c18>"
      ]
     },
     "metadata": {},
     "output_type": "display_data"
    }
   ],
   "source": [
    "correlation_matrix = data.corr()\n",
    "fig = plt.figure(figsize=(12,9))\n",
    "sns.heatmap(correlation_matrix, vmax=0.8, square = True)\n",
    "plt.show()"
   ]
  },
  {
   "cell_type": "code",
   "execution_count": 34,
   "metadata": {},
   "outputs": [],
   "source": [
    "X = data.iloc[:, 0:30]\n",
    "y = data[\"Class\"]"
   ]
  },
  {
   "cell_type": "code",
   "execution_count": 35,
   "metadata": {},
   "outputs": [],
   "source": [
    "X_train, X_test, y_train, y_test = train_test_split(X, y,stratify =y, test_size=0.25, random_state=0)"
   ]
  },
  {
   "cell_type": "code",
   "execution_count": 36,
   "metadata": {},
   "outputs": [
    {
     "data": {
      "text/html": [
       "<div>\n",
       "<style scoped>\n",
       "    .dataframe tbody tr th:only-of-type {\n",
       "        vertical-align: middle;\n",
       "    }\n",
       "\n",
       "    .dataframe tbody tr th {\n",
       "        vertical-align: top;\n",
       "    }\n",
       "\n",
       "    .dataframe thead th {\n",
       "        text-align: right;\n",
       "    }\n",
       "</style>\n",
       "<table border=\"1\" class=\"dataframe\">\n",
       "  <thead>\n",
       "    <tr style=\"text-align: right;\">\n",
       "      <th></th>\n",
       "      <th>Time</th>\n",
       "      <th>V1</th>\n",
       "      <th>V2</th>\n",
       "      <th>V3</th>\n",
       "      <th>V4</th>\n",
       "      <th>V5</th>\n",
       "      <th>V6</th>\n",
       "      <th>V7</th>\n",
       "      <th>V8</th>\n",
       "      <th>V9</th>\n",
       "      <th>...</th>\n",
       "      <th>V20</th>\n",
       "      <th>V21</th>\n",
       "      <th>V22</th>\n",
       "      <th>V23</th>\n",
       "      <th>V24</th>\n",
       "      <th>V25</th>\n",
       "      <th>V26</th>\n",
       "      <th>V27</th>\n",
       "      <th>V28</th>\n",
       "      <th>Amount</th>\n",
       "    </tr>\n",
       "  </thead>\n",
       "  <tbody>\n",
       "    <tr>\n",
       "      <th>52579</th>\n",
       "      <td>45539.0</td>\n",
       "      <td>-3.347914</td>\n",
       "      <td>-3.361473</td>\n",
       "      <td>1.544786</td>\n",
       "      <td>1.762811</td>\n",
       "      <td>2.669098</td>\n",
       "      <td>-1.163306</td>\n",
       "      <td>-0.894963</td>\n",
       "      <td>0.442753</td>\n",
       "      <td>-0.319186</td>\n",
       "      <td>...</td>\n",
       "      <td>1.537452</td>\n",
       "      <td>0.233390</td>\n",
       "      <td>-0.723999</td>\n",
       "      <td>0.944597</td>\n",
       "      <td>-0.594740</td>\n",
       "      <td>0.680832</td>\n",
       "      <td>-0.363141</td>\n",
       "      <td>-0.129965</td>\n",
       "      <td>0.149183</td>\n",
       "      <td>287.28</td>\n",
       "    </tr>\n",
       "    <tr>\n",
       "      <th>104750</th>\n",
       "      <td>69211.0</td>\n",
       "      <td>-2.709431</td>\n",
       "      <td>-0.357075</td>\n",
       "      <td>0.764383</td>\n",
       "      <td>0.077630</td>\n",
       "      <td>-0.103980</td>\n",
       "      <td>-0.374977</td>\n",
       "      <td>-0.816368</td>\n",
       "      <td>0.791849</td>\n",
       "      <td>0.260995</td>\n",
       "      <td>...</td>\n",
       "      <td>-0.398313</td>\n",
       "      <td>0.069553</td>\n",
       "      <td>-0.026616</td>\n",
       "      <td>-0.828865</td>\n",
       "      <td>-0.316275</td>\n",
       "      <td>-0.500448</td>\n",
       "      <td>0.084505</td>\n",
       "      <td>-0.285052</td>\n",
       "      <td>-0.328693</td>\n",
       "      <td>15.95</td>\n",
       "    </tr>\n",
       "    <tr>\n",
       "      <th>138946</th>\n",
       "      <td>82932.0</td>\n",
       "      <td>-1.043819</td>\n",
       "      <td>-0.296518</td>\n",
       "      <td>0.306696</td>\n",
       "      <td>-2.191146</td>\n",
       "      <td>1.281874</td>\n",
       "      <td>-0.340129</td>\n",
       "      <td>1.069963</td>\n",
       "      <td>0.032010</td>\n",
       "      <td>0.094097</td>\n",
       "      <td>...</td>\n",
       "      <td>0.331988</td>\n",
       "      <td>-0.125172</td>\n",
       "      <td>-0.751551</td>\n",
       "      <td>0.258923</td>\n",
       "      <td>-1.210583</td>\n",
       "      <td>0.008129</td>\n",
       "      <td>-1.144667</td>\n",
       "      <td>0.080121</td>\n",
       "      <td>0.137747</td>\n",
       "      <td>136.38</td>\n",
       "    </tr>\n",
       "    <tr>\n",
       "      <th>254495</th>\n",
       "      <td>156757.0</td>\n",
       "      <td>-1.799744</td>\n",
       "      <td>-2.285001</td>\n",
       "      <td>-0.523871</td>\n",
       "      <td>-1.267247</td>\n",
       "      <td>1.618784</td>\n",
       "      <td>-0.791609</td>\n",
       "      <td>-1.090698</td>\n",
       "      <td>0.516999</td>\n",
       "      <td>-0.665132</td>\n",
       "      <td>...</td>\n",
       "      <td>0.706115</td>\n",
       "      <td>0.674089</td>\n",
       "      <td>1.182007</td>\n",
       "      <td>-0.509206</td>\n",
       "      <td>-0.183312</td>\n",
       "      <td>0.930281</td>\n",
       "      <td>0.308974</td>\n",
       "      <td>-0.121150</td>\n",
       "      <td>-0.455961</td>\n",
       "      <td>52.00</td>\n",
       "    </tr>\n",
       "    <tr>\n",
       "      <th>251981</th>\n",
       "      <td>155597.0</td>\n",
       "      <td>1.998482</td>\n",
       "      <td>-0.249065</td>\n",
       "      <td>-1.253748</td>\n",
       "      <td>0.224398</td>\n",
       "      <td>0.041799</td>\n",
       "      <td>-0.589313</td>\n",
       "      <td>0.026386</td>\n",
       "      <td>-0.092081</td>\n",
       "      <td>0.437735</td>\n",
       "      <td>...</td>\n",
       "      <td>-0.221096</td>\n",
       "      <td>-0.255588</td>\n",
       "      <td>-0.718920</td>\n",
       "      <td>0.277660</td>\n",
       "      <td>-0.488993</td>\n",
       "      <td>-0.327426</td>\n",
       "      <td>0.209093</td>\n",
       "      <td>-0.081484</td>\n",
       "      <td>-0.073040</td>\n",
       "      <td>22.24</td>\n",
       "    </tr>\n",
       "  </tbody>\n",
       "</table>\n",
       "<p>5 rows × 30 columns</p>\n",
       "</div>"
      ],
      "text/plain": [
       "            Time        V1        V2        V3        V4        V5        V6  \\\n",
       "52579    45539.0 -3.347914 -3.361473  1.544786  1.762811  2.669098 -1.163306   \n",
       "104750   69211.0 -2.709431 -0.357075  0.764383  0.077630 -0.103980 -0.374977   \n",
       "138946   82932.0 -1.043819 -0.296518  0.306696 -2.191146  1.281874 -0.340129   \n",
       "254495  156757.0 -1.799744 -2.285001 -0.523871 -1.267247  1.618784 -0.791609   \n",
       "251981  155597.0  1.998482 -0.249065 -1.253748  0.224398  0.041799 -0.589313   \n",
       "\n",
       "              V7        V8        V9   ...         V20       V21       V22  \\\n",
       "52579  -0.894963  0.442753 -0.319186   ...    1.537452  0.233390 -0.723999   \n",
       "104750 -0.816368  0.791849  0.260995   ...   -0.398313  0.069553 -0.026616   \n",
       "138946  1.069963  0.032010  0.094097   ...    0.331988 -0.125172 -0.751551   \n",
       "254495 -1.090698  0.516999 -0.665132   ...    0.706115  0.674089  1.182007   \n",
       "251981  0.026386 -0.092081  0.437735   ...   -0.221096 -0.255588 -0.718920   \n",
       "\n",
       "             V23       V24       V25       V26       V27       V28  Amount  \n",
       "52579   0.944597 -0.594740  0.680832 -0.363141 -0.129965  0.149183  287.28  \n",
       "104750 -0.828865 -0.316275 -0.500448  0.084505 -0.285052 -0.328693   15.95  \n",
       "138946  0.258923 -1.210583  0.008129 -1.144667  0.080121  0.137747  136.38  \n",
       "254495 -0.509206 -0.183312  0.930281  0.308974 -0.121150 -0.455961   52.00  \n",
       "251981  0.277660 -0.488993 -0.327426  0.209093 -0.081484 -0.073040   22.24  \n",
       "\n",
       "[5 rows x 30 columns]"
      ]
     },
     "execution_count": 36,
     "metadata": {},
     "output_type": "execute_result"
    }
   ],
   "source": [
    "X_train.head()"
   ]
  },
  {
   "cell_type": "code",
   "execution_count": 37,
   "metadata": {},
   "outputs": [
    {
     "name": "stderr",
     "output_type": "stream",
     "text": [
      "/anaconda3/lib/python3.6/site-packages/sklearn/linear_model/logistic.py:433: FutureWarning: Default solver will be changed to 'lbfgs' in 0.22. Specify a solver to silence this warning.\n",
      "  FutureWarning)\n"
     ]
    }
   ],
   "source": [
    "logmodel = LogisticRegression()\n",
    "logmodel.fit(X_train,y_train)\n",
    "predictions = logmodel.predict(X_test)"
   ]
  },
  {
   "cell_type": "code",
   "execution_count": 38,
   "metadata": {},
   "outputs": [
    {
     "name": "stdout",
     "output_type": "stream",
     "text": [
      "              precision    recall  f1-score   support\n",
      "\n",
      "           0       1.00      1.00      1.00     71079\n",
      "           1       0.70      0.55      0.62       123\n",
      "\n",
      "   micro avg       1.00      1.00      1.00     71202\n",
      "   macro avg       0.85      0.78      0.81     71202\n",
      "weighted avg       1.00      1.00      1.00     71202\n",
      "\n"
     ]
    }
   ],
   "source": [
    "\n",
    "print(classification_report(y_test,predictions))\n",
    "\n"
   ]
  },
  {
   "cell_type": "code",
   "execution_count": 39,
   "metadata": {},
   "outputs": [
    {
     "name": "stdout",
     "output_type": "stream",
     "text": [
      "------------ Results for LogisticRegression ---------------\n",
      "cm: [[71050    29]\n",
      " [   55    68]]\n",
      "recall_score: 0.5528455284552846\n",
      "roc_auc_score: 0.7762187658596292\n",
      "Area Under P-R Curve:  0.6273244532512043\n",
      "Precision Score: 0.701\n",
      "Accuracy Score: 0.999\n"
     ]
    }
   ],
   "source": [
    "predictions = logmodel.predict(X_test)\n",
    "precision, recall, thresholds = precision_recall_curve(y_test, predictions)\n",
    "area = auc(recall, precision)\n",
    "\n",
    "print('------------ Results for LogisticRegression ---------------')\n",
    "print('cm:', confusion_matrix(y_test,predictions))\n",
    "#print('cr:', classification_report(y_test,y_pred))\n",
    "print('recall_score:', recall_score(y_test,predictions))\n",
    "print('roc_auc_score:',roc_auc_score(y_test,predictions))\n",
    "print(\"Area Under P-R Curve: \",area)\n",
    "from sklearn.metrics import precision_score\n",
    "precision_baseline = float('%.3f' % precision_score(y_test, predictions))\n",
    "print('Precision Score:', precision_baseline)\n",
    "accuracy_baseline = float('%.3f' % accuracy_score(y_test, predictions))\n",
    "print('Accuracy Score:', accuracy_baseline)"
   ]
  },
  {
   "cell_type": "code",
   "execution_count": 40,
   "metadata": {},
   "outputs": [],
   "source": [
    "#using SMOTE for upsampling minority class, chosen post checkin results with under_sampling as up-sampling gives better result"
   ]
  },
  {
   "cell_type": "code",
   "execution_count": 41,
   "metadata": {},
   "outputs": [],
   "source": [
    "from imblearn.over_sampling import SMOTE\n",
    "sm = SMOTE(random_state=12, ratio = 1.0)\n",
    "x_train_res, y_train_res = sm.fit_sample(X_train, y_train)"
   ]
  },
  {
   "cell_type": "code",
   "execution_count": 42,
   "metadata": {},
   "outputs": [
    {
     "name": "stderr",
     "output_type": "stream",
     "text": [
      "/anaconda3/lib/python3.6/site-packages/sklearn/linear_model/logistic.py:433: FutureWarning: Default solver will be changed to 'lbfgs' in 0.22. Specify a solver to silence this warning.\n",
      "  FutureWarning)\n"
     ]
    }
   ],
   "source": [
    "logmodel.fit(x_train_res,y_train_res)\n",
    "predictions = logmodel.predict(X_test)"
   ]
  },
  {
   "cell_type": "code",
   "execution_count": 43,
   "metadata": {},
   "outputs": [
    {
     "name": "stdout",
     "output_type": "stream",
     "text": [
      "roc_auc_score: 0.9341557092606337\n",
      "Area Under P-R Curve:  0.4827091350527523\n"
     ]
    }
   ],
   "source": [
    "precision, recall, thresholds = precision_recall_curve(y_test, predictions)\n",
    "area = auc(recall, precision)\n",
    "print('roc_auc_score:',roc_auc_score(y_test,predictions))\n",
    "print(\"Area Under P-R Curve: \",area)"
   ]
  },
  {
   "cell_type": "code",
   "execution_count": 44,
   "metadata": {},
   "outputs": [
    {
     "name": "stdout",
     "output_type": "stream",
     "text": [
      "------------ Results for LogisticRegression ---------------\n",
      "cm: [[69809  1270]\n",
      " [   14   109]]\n",
      "recall_score: 0.8861788617886179\n",
      "roc_auc_score: 0.9341557092606337\n",
      "Area Under P-R Curve:  0.4827091350527523\n",
      "Precision Score: 0.079\n",
      "Accuracy Score: 0.982\n"
     ]
    }
   ],
   "source": [
    "predictions = logmodel.predict(X_test)\n",
    "precision, recall, thresholds = precision_recall_curve(y_test, predictions)\n",
    "area = auc(recall, precision)\n",
    "\n",
    "print('------------ Results for LogisticRegression ---------------')\n",
    "print('cm:', confusion_matrix(y_test,predictions))\n",
    "#print('cr:', classification_report(y_test,y_pred))\n",
    "print('recall_score:', recall_score(y_test,predictions))\n",
    "print('roc_auc_score:',roc_auc_score(y_test,predictions))\n",
    "print(\"Area Under P-R Curve: \",area)\n",
    "from sklearn.metrics import precision_score\n",
    "precision_baseline = float('%.3f' % precision_score(y_test, predictions))\n",
    "print('Precision Score:', precision_baseline)\n",
    "accuracy_baseline = float('%.3f' % accuracy_score(y_test, predictions))\n",
    "print('Accuracy Score:', accuracy_baseline)"
   ]
  },
  {
   "cell_type": "code",
   "execution_count": 45,
   "metadata": {},
   "outputs": [],
   "source": [
    "#RANDOM FOREST"
   ]
  },
  {
   "cell_type": "code",
   "execution_count": 46,
   "metadata": {},
   "outputs": [
    {
     "data": {
      "text/plain": [
       "RandomForestClassifier(bootstrap=True, class_weight=None, criterion='gini',\n",
       "            max_depth=None, max_features='auto', max_leaf_nodes=None,\n",
       "            min_impurity_decrease=0.0, min_impurity_split=None,\n",
       "            min_samples_leaf=1, min_samples_split=2,\n",
       "            min_weight_fraction_leaf=0.0, n_estimators=100, n_jobs=None,\n",
       "            oob_score=False, random_state=None, verbose=0,\n",
       "            warm_start=False)"
      ]
     },
     "execution_count": 46,
     "metadata": {},
     "output_type": "execute_result"
    }
   ],
   "source": [
    "clf = RandomForestClassifier(n_estimators=100)    \n",
    "clf.fit(x_train_res,y_train_res)"
   ]
  },
  {
   "cell_type": "code",
   "execution_count": 47,
   "metadata": {},
   "outputs": [
    {
     "name": "stdout",
     "output_type": "stream",
     "text": [
      "------------ Results for RandomForestClassifier ---------------\n",
      "cm: [[71069    10]\n",
      " [   23   100]]\n",
      "recall_score: 0.8130081300813008\n",
      "roc_auc_score: 0.9064337207758183\n",
      "Area Under P-R Curve:  0.8612110319031747\n",
      "Precision Score: 0.909\n"
     ]
    }
   ],
   "source": [
    "predictions = clf.predict(X_test)\n",
    "precision, recall, thresholds = precision_recall_curve(y_test, predictions)\n",
    "area = auc(recall, precision)\n",
    "\n",
    "print('------------ Results for RandomForestClassifier ---------------')\n",
    "print('cm:', confusion_matrix(y_test,predictions))\n",
    "#print('cr:', classification_report(y_test,y_pred))\n",
    "print('recall_score:', recall_score(y_test,predictions))\n",
    "print('roc_auc_score:',roc_auc_score(y_test,predictions))\n",
    "print(\"Area Under P-R Curve: \",area)\n",
    "from sklearn.metrics import precision_score\n",
    "precision_baseline = float('%.3f' % precision_score(y_test, predictions))\n",
    "print('Precision Score:', precision_baseline)"
   ]
  },
  {
   "cell_type": "code",
   "execution_count": 48,
   "metadata": {},
   "outputs": [],
   "source": [
    "\n",
    "#AUPRC is ideal for evaluation here as the class is highly imbalanced\n"
   ]
  },
  {
   "cell_type": "code",
   "execution_count": 49,
   "metadata": {},
   "outputs": [
    {
     "data": {
      "text/plain": [
       "[<matplotlib.lines.Line2D at 0x1a18b70c18>]"
      ]
     },
     "execution_count": 49,
     "metadata": {},
     "output_type": "execute_result"
    },
    {
     "data": {
      "image/png": "[encoded data removed]",
      "text/plain": [
       "<matplotlib.figure.Figure at 0x1a1888a320>"
      ]
     },
     "metadata": {},
     "output_type": "display_data"
    }
   ],
   "source": [
    "#precision-recall curve\n",
    "fig, (ax1) = plt.subplots(1,figsize = (12,6))\n",
    "precision, recall, thresholds_pr = precision_recall_curve(y_test, predictions)\n",
    "avg_pre = precision_baseline#average_precision_score(y_test, predictions)\n",
    "ax1.plot(precision, recall, label =\"precision={}\".format(precision_baseline))# i+ \" average precision = {:0.2f}\".format(avg_pre), lw = 3, alpha = 0.7)\n",
    "ax1.set_xlabel('Precision', fontsize = 14)\n",
    "ax1.set_ylabel('Recall', fontsize = 14)\n",
    "ax1.set_title('Precision-Recall Curve', fontsize = 18)\n",
    "ax1.legend(loc = 'best')\n",
    "        #find default threshold\n",
    "close_default = np.argmin(np.abs(thresholds_pr - 0.5))\n",
    "ax1.plot(precision[close_default], recall[close_default], 'o', markersize = 8)\n",
    "\n"
   ]
  },
  {
   "cell_type": "code",
   "execution_count": 50,
   "metadata": {},
   "outputs": [],
   "source": [
    "#AdaBoostClassifier"
   ]
  },
  {
   "cell_type": "code",
   "execution_count": 51,
   "metadata": {},
   "outputs": [
    {
     "data": {
      "text/plain": [
       "0.9916856268082357"
      ]
     },
     "execution_count": 51,
     "metadata": {},
     "output_type": "execute_result"
    }
   ],
   "source": [
    "clf = AdaBoostClassifier(n_estimators=100)\n",
    "clf.fit(x_train_res,y_train_res)\n",
    "y_pred = clf.predict(X_test)\n",
    "accuracy_score(y_test, y_pred)"
   ]
  },
  {
   "cell_type": "code",
   "execution_count": 52,
   "metadata": {},
   "outputs": [
    {
     "name": "stdout",
     "output_type": "stream",
     "text": [
      "------------ Results for AdaBOOST---------------\n",
      "cm: [[70508   571]\n",
      " [   21   102]]\n",
      "roc_auc_score: 0.9106174888195512\n",
      "Area Under P-R Curve:  0.4905617032622687\n"
     ]
    }
   ],
   "source": [
    "predictions = clf.predict(X_test)\n",
    "precision, recall, thresholds = precision_recall_curve(y_test, predictions)\n",
    "area = auc(recall, precision)\n",
    "\n",
    "print('------------ Results for AdaBOOST---------------')\n",
    "print('cm:', confusion_matrix(y_test,predictions))\n",
    "#print('cr:', classification_report(y_test,y_pred))\n",
    "#print('recall_score:', recall_score(y_test,y_pred))\n",
    "print('roc_auc_score:',roc_auc_score(y_test,predictions))\n",
    "print(\"Area Under P-R Curve: \",area)"
   ]
  },
  {
   "cell_type": "code",
   "execution_count": 53,
   "metadata": {},
   "outputs": [],
   "source": [
    "#Randomtree Classifier gives the best result"
   ]
  },
  {
   "cell_type": "code",
   "execution_count": null,
   "metadata": {},
   "outputs": [],
   "source": []
  },
  {
   "cell_type": "code",
   "execution_count": null,
   "metadata": {},
   "outputs": [],
   "source": []
  },
  {
   "cell_type": "code",
   "execution_count": null,
   "metadata": {},
   "outputs": [],
   "source": []
  },
  {
   "cell_type": "code",
   "execution_count": null,
   "metadata": {},
   "outputs": [],
   "source": []
  },
  {
   "cell_type": "code",
   "execution_count": null,
   "metadata": {},
   "outputs": [],
   "source": []
  },
  {
   "cell_type": "code",
   "execution_count": null,
   "metadata": {},
   "outputs": [],
   "source": []
  },
  {
   "cell_type": "code",
   "execution_count": null,
   "metadata": {},
   "outputs": [],
   "source": [
    "\n",
    "\n"
   ]
  },
  {
   "cell_type": "code",
   "execution_count": null,
   "metadata": {},
   "outputs": [],
   "source": []
  },
  {
   "cell_type": "code",
   "execution_count": null,
   "metadata": {},
   "outputs": [],
   "source": []
  },
  {
   "cell_type": "code",
   "execution_count": null,
   "metadata": {},
   "outputs": [],
   "source": []
  }
 ],
 "metadata": {
  "kernelspec": {
   "display_name": "Python 3",
   "language": "python",
   "name": "python3"
  },
  "language_info": {
   "codemirror_mode": {
    "name": "ipython",
    "version": 3
   },
   "file_extension": ".py",
   "mimetype": "text/x-python",
   "name": "python",
   "nbconvert_exporter": "python",
   "pygments_lexer": "ipython3",
   "version": "3.6.4"
  }
 },
 "nbformat": 4,
 "nbformat_minor": 2
}
